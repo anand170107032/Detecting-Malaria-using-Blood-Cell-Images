{
  "nbformat": 4,
  "nbformat_minor": 0,
  "metadata": {
    "colab": {
      "name": "Malaria_Detection.ipynb",
      "provenance": [],
      "toc_visible": true
    },
    "kernelspec": {
      "name": "python3",
      "display_name": "Python 3"
    },
    "accelerator": "TPU"
  },
  "cells": [
    {
      "cell_type": "markdown",
      "metadata": {
        "id": "pw4DhQTdIBSI",
        "colab_type": "text"
      },
      "source": [
        "#Malaria Disease Detection"
      ]
    },
    {
      "cell_type": "code",
      "metadata": {
        "id": "N_ndYaDwrfjW",
        "colab_type": "code",
        "colab": {
          "base_uri": "https://localhost:8080/",
          "height": 35
        },
        "outputId": "8fde3eff-4d43-44ae-b054-91f7ee753efd"
      },
      "source": [
        "from google.colab import drive\n",
        "drive.mount('/content/gdrive')"
      ],
      "execution_count": 1,
      "outputs": [
        {
          "output_type": "stream",
          "text": [
            "Mounted at /content/gdrive\n"
          ],
          "name": "stdout"
        }
      ]
    },
    {
      "cell_type": "code",
      "metadata": {
        "id": "mlzFtGQFzEI3",
        "colab_type": "code",
        "colab": {
          "base_uri": "https://localhost:8080/",
          "height": 35
        },
        "outputId": "e3055293-ee88-40ed-97b6-5b3756470468"
      },
      "source": [
        "! ls"
      ],
      "execution_count": 2,
      "outputs": [
        {
          "output_type": "stream",
          "text": [
            "gdrive\tsample_data\n"
          ],
          "name": "stdout"
        }
      ]
    },
    {
      "cell_type": "code",
      "metadata": {
        "id": "Kx75m8RmzM48",
        "colab_type": "code",
        "colab": {
          "base_uri": "https://localhost:8080/",
          "height": 35
        },
        "outputId": "59ebc167-54ee-4660-c775-8e0fb3ed4a07"
      },
      "source": [
        "%cd gdrive/My Drive/project_folder"
      ],
      "execution_count": 3,
      "outputs": [
        {
          "output_type": "stream",
          "text": [
            "/content/gdrive/My Drive/project_folder\n"
          ],
          "name": "stdout"
        }
      ]
    },
    {
      "cell_type": "code",
      "metadata": {
        "id": "CcDOYXSTzrpb",
        "colab_type": "code",
        "colab": {
          "base_uri": "https://localhost:8080/",
          "height": 106
        },
        "outputId": "36c9ac75-7d3b-4c2b-8478-6a25851445d5"
      },
      "source": [
        "! git clone https://github.com/anand170107032/Detecting-Malaria-using-Blood-Cell-Images.git"
      ],
      "execution_count": 4,
      "outputs": [
        {
          "output_type": "stream",
          "text": [
            "Cloning into 'Detecting-Malaria-using-Blood-Cell-Images'...\n",
            "remote: Enumerating objects: 27572, done.\u001b[K\n",
            "remote: Total 27572 (delta 0), reused 0 (delta 0), pack-reused 27572\u001b[K\n",
            "Receiving objects: 100% (27572/27572), 345.93 MiB | 14.19 MiB/s, done.\n",
            "Checking out files: 100% (27563/27563), done.\n"
          ],
          "name": "stdout"
        }
      ]
    },
    {
      "cell_type": "code",
      "metadata": {
        "id": "WxWaOQTt2syr",
        "colab_type": "code",
        "colab": {
          "base_uri": "https://localhost:8080/",
          "height": 35
        },
        "outputId": "2a548a66-047f-487e-9fec-a85902e97ebc"
      },
      "source": [
        "%cd 'Detecting-Malaria-using-Blood-Cell-Images'"
      ],
      "execution_count": 9,
      "outputs": [
        {
          "output_type": "stream",
          "text": [
            "/content/gdrive/My Drive/project_folder/Detecting-Malaria-using-Blood-Cell-Images\n"
          ],
          "name": "stdout"
        }
      ]
    },
    {
      "cell_type": "code",
      "metadata": {
        "id": "I7jP6E8gQba0",
        "colab_type": "code",
        "colab": {}
      },
      "source": [
        "#importing important libraries\n",
        "import os\n",
        "import numpy as np\n",
        "import pandas as pd\n",
        "import matplotlib.pyplot as plt\n",
        "import seaborn as sns\n",
        "from matplotlib.image import imread\n",
        "from tensorflow import keras\n",
        "from tensorflow.keras.preprocessing.image import ImageDataGenerator\n",
        "from tensorflow.keras.models import Sequential\n",
        "from tensorflow.keras.layers import Dense, MaxPool2D, Conv2D, Dropout,Flatten\n",
        "from tensorflow.keras.callbacks import EarlyStopping\n",
        "from tensorflow.keras.models import load_model\n",
        "from sklearn.metrics import classification_report, confusion_matrix\n",
        "import seaborn as sns\n",
        "import matplotlib.pyplot as plt\n",
        "%matplotlib inline\n",
        "\n",
        "import warnings\n",
        "warnings.filterwarnings(\"ignore\")"
      ],
      "execution_count": 60,
      "outputs": []
    },
    {
      "cell_type": "code",
      "metadata": {
        "id": "r3ln9ru93IxE",
        "colab_type": "code",
        "colab": {}
      },
      "source": [
        "cwd = os.getcwd()"
      ],
      "execution_count": 11,
      "outputs": []
    },
    {
      "cell_type": "code",
      "metadata": {
        "id": "8BN2O2YI2zTc",
        "colab_type": "code",
        "colab": {}
      },
      "source": [
        "data_dir = cwd + '/cell_images'"
      ],
      "execution_count": 12,
      "outputs": []
    },
    {
      "cell_type": "code",
      "metadata": {
        "id": "kzxB4hdI3U3Z",
        "colab_type": "code",
        "colab": {
          "base_uri": "https://localhost:8080/",
          "height": 35
        },
        "outputId": "6c1d5a0c-c1ae-4058-a8e0-bfd2fc44e887"
      },
      "source": [
        "os.listdir(data_dir)"
      ],
      "execution_count": 13,
      "outputs": [
        {
          "output_type": "execute_result",
          "data": {
            "text/plain": [
              "['test', 'train']"
            ]
          },
          "metadata": {
            "tags": []
          },
          "execution_count": 13
        }
      ]
    },
    {
      "cell_type": "code",
      "metadata": {
        "id": "nYQb77XE3_pf",
        "colab_type": "code",
        "colab": {}
      },
      "source": [
        "train_path = data_dir + '/train/'\n",
        "test_path = data_dir + '/test/'"
      ],
      "execution_count": 14,
      "outputs": []
    },
    {
      "cell_type": "code",
      "metadata": {
        "id": "oT4OKxPY4FiM",
        "colab_type": "code",
        "colab": {
          "base_uri": "https://localhost:8080/",
          "height": 36
        },
        "outputId": "af81586b-c387-4546-e21b-034328ccf4dd"
      },
      "source": [
        "test_path"
      ],
      "execution_count": 15,
      "outputs": [
        {
          "output_type": "execute_result",
          "data": {
            "application/vnd.google.colaboratory.intrinsic+json": {
              "type": "string"
            },
            "text/plain": [
              "'/content/gdrive/My Drive/project_folder/Detecting-Malaria-using-Blood-Cell-Images/cell_images/test/'"
            ]
          },
          "metadata": {
            "tags": []
          },
          "execution_count": 15
        }
      ]
    },
    {
      "cell_type": "code",
      "metadata": {
        "id": "vqfazR404IjL",
        "colab_type": "code",
        "colab": {
          "base_uri": "https://localhost:8080/",
          "height": 35
        },
        "outputId": "8b2f7624-2699-47aa-cf88-acda3cf56d2f"
      },
      "source": [
        "os.listdir(test_path)"
      ],
      "execution_count": 16,
      "outputs": [
        {
          "output_type": "execute_result",
          "data": {
            "text/plain": [
              "['parasitized', 'uninfected']"
            ]
          },
          "metadata": {
            "tags": []
          },
          "execution_count": 16
        }
      ]
    },
    {
      "cell_type": "code",
      "metadata": {
        "id": "tcE4z_H-4PWC",
        "colab_type": "code",
        "colab": {
          "base_uri": "https://localhost:8080/",
          "height": 35
        },
        "outputId": "71ab175f-d0cf-4aad-a3ae-fdbdb7bbf5a1"
      },
      "source": [
        "os.listdir(train_path)"
      ],
      "execution_count": 17,
      "outputs": [
        {
          "output_type": "execute_result",
          "data": {
            "text/plain": [
              "['parasitized', 'uninfected']"
            ]
          },
          "metadata": {
            "tags": []
          },
          "execution_count": 17
        }
      ]
    },
    {
      "cell_type": "code",
      "metadata": {
        "id": "LecSOPpf4cdF",
        "colab_type": "code",
        "colab": {
          "base_uri": "https://localhost:8080/",
          "height": 36
        },
        "outputId": "4259fa40-fa57-4054-9931-aa6236f48e1f"
      },
      "source": [
        "os.listdir(train_path+'parasitized')[0]"
      ],
      "execution_count": 18,
      "outputs": [
        {
          "output_type": "execute_result",
          "data": {
            "application/vnd.google.colaboratory.intrinsic+json": {
              "type": "string"
            },
            "text/plain": [
              "'C100P61ThinF_IMG_20150918_144104_cell_162.png'"
            ]
          },
          "metadata": {
            "tags": []
          },
          "execution_count": 18
        }
      ]
    },
    {
      "cell_type": "code",
      "metadata": {
        "id": "bZZYV4ln4UY0",
        "colab_type": "code",
        "colab": {}
      },
      "source": [
        "parasitized_cell = train_path +'parasitized/'+ 'C100P61ThinF_IMG_20150918_144104_cell_162.png'"
      ],
      "execution_count": 19,
      "outputs": []
    },
    {
      "cell_type": "code",
      "metadata": {
        "id": "l1rVA2MP4nVA",
        "colab_type": "code",
        "colab": {
          "base_uri": "https://localhost:8080/",
          "height": 36
        },
        "outputId": "3f7dbd46-990a-4194-c84e-01fa23e75499"
      },
      "source": [
        "parasitized_cell"
      ],
      "execution_count": 20,
      "outputs": [
        {
          "output_type": "execute_result",
          "data": {
            "application/vnd.google.colaboratory.intrinsic+json": {
              "type": "string"
            },
            "text/plain": [
              "'/content/gdrive/My Drive/project_folder/Detecting-Malaria-using-Blood-Cell-Images/cell_images/train/parasitized/C100P61ThinF_IMG_20150918_144104_cell_162.png'"
            ]
          },
          "metadata": {
            "tags": []
          },
          "execution_count": 20
        }
      ]
    },
    {
      "cell_type": "code",
      "metadata": {
        "id": "9eTwMf__4wub",
        "colab_type": "code",
        "colab": {
          "base_uri": "https://localhost:8080/",
          "height": 888
        },
        "outputId": "b9852e8f-02ec-441d-fbb2-bd0279003d2d"
      },
      "source": [
        "imread(parasitized_cell)"
      ],
      "execution_count": 21,
      "outputs": [
        {
          "output_type": "execute_result",
          "data": {
            "text/plain": [
              "array([[[0., 0., 0.],\n",
              "        [0., 0., 0.],\n",
              "        [0., 0., 0.],\n",
              "        ...,\n",
              "        [0., 0., 0.],\n",
              "        [0., 0., 0.],\n",
              "        [0., 0., 0.]],\n",
              "\n",
              "       [[0., 0., 0.],\n",
              "        [0., 0., 0.],\n",
              "        [0., 0., 0.],\n",
              "        ...,\n",
              "        [0., 0., 0.],\n",
              "        [0., 0., 0.],\n",
              "        [0., 0., 0.]],\n",
              "\n",
              "       [[0., 0., 0.],\n",
              "        [0., 0., 0.],\n",
              "        [0., 0., 0.],\n",
              "        ...,\n",
              "        [0., 0., 0.],\n",
              "        [0., 0., 0.],\n",
              "        [0., 0., 0.]],\n",
              "\n",
              "       ...,\n",
              "\n",
              "       [[0., 0., 0.],\n",
              "        [0., 0., 0.],\n",
              "        [0., 0., 0.],\n",
              "        ...,\n",
              "        [0., 0., 0.],\n",
              "        [0., 0., 0.],\n",
              "        [0., 0., 0.]],\n",
              "\n",
              "       [[0., 0., 0.],\n",
              "        [0., 0., 0.],\n",
              "        [0., 0., 0.],\n",
              "        ...,\n",
              "        [0., 0., 0.],\n",
              "        [0., 0., 0.],\n",
              "        [0., 0., 0.]],\n",
              "\n",
              "       [[0., 0., 0.],\n",
              "        [0., 0., 0.],\n",
              "        [0., 0., 0.],\n",
              "        ...,\n",
              "        [0., 0., 0.],\n",
              "        [0., 0., 0.],\n",
              "        [0., 0., 0.]]], dtype=float32)"
            ]
          },
          "metadata": {
            "tags": []
          },
          "execution_count": 21
        }
      ]
    },
    {
      "cell_type": "code",
      "metadata": {
        "id": "j7YfJoci42Ik",
        "colab_type": "code",
        "colab": {
          "base_uri": "https://localhost:8080/",
          "height": 287
        },
        "outputId": "2537da35-cb89-4f19-f627-18112c19a6f0"
      },
      "source": [
        "plt.imshow(imread(parasitized_cell))"
      ],
      "execution_count": 22,
      "outputs": [
        {
          "output_type": "execute_result",
          "data": {
            "text/plain": [
              "<matplotlib.image.AxesImage at 0x7fcd2a5bf5f8>"
            ]
          },
          "metadata": {
            "tags": []
          },
          "execution_count": 22
        },
        {
          "output_type": "display_data",
          "data": {
            "image/png": "[encoded data removed]",
            "text/plain": [
              "<Figure size 432x288 with 1 Axes>"
            ]
          },
          "metadata": {
            "tags": [],
            "needs_background": "light"
          }
        }
      ]
    },
    {
      "cell_type": "code",
      "metadata": {
        "id": "5C9wlF0d45Lx",
        "colab_type": "code",
        "colab": {
          "base_uri": "https://localhost:8080/",
          "height": 36
        },
        "outputId": "01c22083-e14f-44a2-fd0c-a1a6998301cf"
      },
      "source": [
        "os.listdir(train_path+'uninfected')[5]"
      ],
      "execution_count": 23,
      "outputs": [
        {
          "output_type": "execute_result",
          "data": {
            "application/vnd.google.colaboratory.intrinsic+json": {
              "type": "string"
            },
            "text/plain": [
              "'C100P61ThinF_IMG_20150918_144104_cell_48.png'"
            ]
          },
          "metadata": {
            "tags": []
          },
          "execution_count": 23
        }
      ]
    },
    {
      "cell_type": "code",
      "metadata": {
        "id": "WeSuq1538XZn",
        "colab_type": "code",
        "colab": {}
      },
      "source": [
        "uninfected_cell = train_path + 'uninfected/'+ 'C100P61ThinF_IMG_20150918_144104_cell_48.png'"
      ],
      "execution_count": 24,
      "outputs": []
    },
    {
      "cell_type": "code",
      "metadata": {
        "id": "T_9aWj428cmk",
        "colab_type": "code",
        "colab": {
          "base_uri": "https://localhost:8080/",
          "height": 36
        },
        "outputId": "7a5dcaee-4701-424d-eeda-e1c1265a62e0"
      },
      "source": [
        "uninfected_cell"
      ],
      "execution_count": 25,
      "outputs": [
        {
          "output_type": "execute_result",
          "data": {
            "application/vnd.google.colaboratory.intrinsic+json": {
              "type": "string"
            },
            "text/plain": [
              "'/content/gdrive/My Drive/project_folder/Detecting-Malaria-using-Blood-Cell-Images/cell_images/train/uninfected/C100P61ThinF_IMG_20150918_144104_cell_48.png'"
            ]
          },
          "metadata": {
            "tags": []
          },
          "execution_count": 25
        }
      ]
    },
    {
      "cell_type": "code",
      "metadata": {
        "id": "ZRRZqU3E8gQq",
        "colab_type": "code",
        "colab": {}
      },
      "source": [
        "uninfected_cell = imread(uninfected_cell)"
      ],
      "execution_count": 26,
      "outputs": []
    },
    {
      "cell_type": "code",
      "metadata": {
        "id": "nBMp-fLr8irH",
        "colab_type": "code",
        "colab": {
          "base_uri": "https://localhost:8080/",
          "height": 287
        },
        "outputId": "f66ffe76-94ec-450c-8bf8-686779ea5fe4"
      },
      "source": [
        "plt.imshow(uninfected_cell)"
      ],
      "execution_count": 27,
      "outputs": [
        {
          "output_type": "execute_result",
          "data": {
            "text/plain": [
              "<matplotlib.image.AxesImage at 0x7fcd2a4dab38>"
            ]
          },
          "metadata": {
            "tags": []
          },
          "execution_count": 27
        },
        {
          "output_type": "display_data",
          "data": {
            "image/png": "[encoded data removed]",
            "text/plain": [
              "<Figure size 432x288 with 1 Axes>"
            ]
          },
          "metadata": {
            "tags": [],
            "needs_background": "light"
          }
        }
      ]
    },
    {
      "cell_type": "code",
      "metadata": {
        "id": "-8PH9n638kph",
        "colab_type": "code",
        "colab": {
          "base_uri": "https://localhost:8080/",
          "height": 35
        },
        "outputId": "a848b1b5-3db4-4f39-f216-649a425356ce"
      },
      "source": [
        "len(os.listdir(train_path+'parasitized')),len(os.listdir(train_path+'uninfected'))"
      ],
      "execution_count": 28,
      "outputs": [
        {
          "output_type": "execute_result",
          "data": {
            "text/plain": [
              "(12480, 12480)"
            ]
          },
          "metadata": {
            "tags": []
          },
          "execution_count": 28
        }
      ]
    },
    {
      "cell_type": "markdown",
      "metadata": {
        "id": "H5FmsAtzAC8Z",
        "colab_type": "text"
      },
      "source": [
        "Number of images of parasitized cell is same as number of images of uninfected_cell"
      ]
    },
    {
      "cell_type": "code",
      "metadata": {
        "id": "GDGeJu5t9z7y",
        "colab_type": "code",
        "colab": {
          "base_uri": "https://localhost:8080/",
          "height": 35
        },
        "outputId": "ecced37a-15e3-4b08-f8d2-fa08627dc158"
      },
      "source": [
        "len(os.listdir(test_path+'parasitized')),len(os.listdir(test_path+'parasitized'))"
      ],
      "execution_count": 29,
      "outputs": [
        {
          "output_type": "execute_result",
          "data": {
            "text/plain": [
              "(1300, 1300)"
            ]
          },
          "metadata": {
            "tags": []
          },
          "execution_count": 29
        }
      ]
    },
    {
      "cell_type": "markdown",
      "metadata": {
        "id": "MMN1IOdf_uvI",
        "colab_type": "text"
      },
      "source": [
        "These are real images. So, they don't have same dimensions."
      ]
    },
    {
      "cell_type": "code",
      "metadata": {
        "id": "7We7iuVR-SHC",
        "colab_type": "code",
        "colab": {}
      },
      "source": [
        "dim1 = []\n",
        "dim2 = []\n",
        "\n",
        "for image_filename in os.listdir(test_path+'uninfected'):\n",
        "    \n",
        "    img = imread(test_path + 'uninfected/' + image_filename)\n",
        "    d1, d2, colors = img.shape\n",
        "    dim1.append(d1)\n",
        "    dim2.append(d2)"
      ],
      "execution_count": 30,
      "outputs": []
    },
    {
      "cell_type": "code",
      "metadata": {
        "id": "6LDVMm7vIjEy",
        "colab_type": "code",
        "colab": {
          "base_uri": "https://localhost:8080/",
          "height": 1000
        },
        "outputId": "667644a1-1ab6-4847-f070-ce6c57a47a10"
      },
      "source": [
        "dim1"
      ],
      "execution_count": 31,
      "outputs": [
        {
          "output_type": "execute_result",
          "data": {
            "text/plain": [
              "[118,\n",
              " 172,\n",
              " 130,\n",
              " 163,\n",
              " 172,\n",
              " 139,\n",
              " 151,\n",
              " 160,\n",
              " 145,\n",
              " 127,\n",
              " 121,\n",
              " 154,\n",
              " 145,\n",
              " 127,\n",
              " 154,\n",
              " 151,\n",
              " 148,\n",
              " 130,\n",
              " 160,\n",
              " 136,\n",
              " 139,\n",
              " 190,\n",
              " 127,\n",
              " 133,\n",
              " 136,\n",
              " 124,\n",
              " 151,\n",
              " 151,\n",
              " 151,\n",
              " 160,\n",
              " 118,\n",
              " 154,\n",
              " 154,\n",
              " 121,\n",
              " 127,\n",
              " 118,\n",
              " 130,\n",
              " 124,\n",
              " 163,\n",
              " 88,\n",
              " 139,\n",
              " 127,\n",
              " 121,\n",
              " 139,\n",
              " 166,\n",
              " 133,\n",
              " 124,\n",
              " 154,\n",
              " 139,\n",
              " 127,\n",
              " 124,\n",
              " 136,\n",
              " 166,\n",
              " 133,\n",
              " 145,\n",
              " 157,\n",
              " 181,\n",
              " 148,\n",
              " 112,\n",
              " 124,\n",
              " 112,\n",
              " 106,\n",
              " 121,\n",
              " 148,\n",
              " 148,\n",
              " 112,\n",
              " 121,\n",
              " 148,\n",
              " 97,\n",
              " 112,\n",
              " 142,\n",
              " 118,\n",
              " 130,\n",
              " 151,\n",
              " 133,\n",
              " 136,\n",
              " 115,\n",
              " 145,\n",
              " 115,\n",
              " 142,\n",
              " 136,\n",
              " 130,\n",
              " 142,\n",
              " 124,\n",
              " 142,\n",
              " 136,\n",
              " 166,\n",
              " 148,\n",
              " 136,\n",
              " 142,\n",
              " 133,\n",
              " 130,\n",
              " 139,\n",
              " 124,\n",
              " 139,\n",
              " 121,\n",
              " 130,\n",
              " 142,\n",
              " 133,\n",
              " 118,\n",
              " 157,\n",
              " 127,\n",
              " 109,\n",
              " 112,\n",
              " 139,\n",
              " 142,\n",
              " 142,\n",
              " 112,\n",
              " 118,\n",
              " 100,\n",
              " 127,\n",
              " 145,\n",
              " 136,\n",
              " 160,\n",
              " 187,\n",
              " 130,\n",
              " 130,\n",
              " 157,\n",
              " 130,\n",
              " 130,\n",
              " 151,\n",
              " 175,\n",
              " 145,\n",
              " 136,\n",
              " 157,\n",
              " 133,\n",
              " 127,\n",
              " 154,\n",
              " 133,\n",
              " 151,\n",
              " 130,\n",
              " 136,\n",
              " 160,\n",
              " 130,\n",
              " 139,\n",
              " 145,\n",
              " 145,\n",
              " 145,\n",
              " 154,\n",
              " 133,\n",
              " 160,\n",
              " 142,\n",
              " 157,\n",
              " 145,\n",
              " 136,\n",
              " 121,\n",
              " 115,\n",
              " 121,\n",
              " 121,\n",
              " 127,\n",
              " 145,\n",
              " 130,\n",
              " 133,\n",
              " 142,\n",
              " 127,\n",
              " 121,\n",
              " 139,\n",
              " 118,\n",
              " 118,\n",
              " 148,\n",
              " 121,\n",
              " 145,\n",
              " 130,\n",
              " 169,\n",
              " 142,\n",
              " 136,\n",
              " 148,\n",
              " 142,\n",
              " 169,\n",
              " 115,\n",
              " 109,\n",
              " 166,\n",
              " 145,\n",
              " 127,\n",
              " 124,\n",
              " 124,\n",
              " 130,\n",
              " 196,\n",
              " 97,\n",
              " 115,\n",
              " 133,\n",
              " 139,\n",
              " 148,\n",
              " 109,\n",
              " 127,\n",
              " 175,\n",
              " 148,\n",
              " 136,\n",
              " 175,\n",
              " 151,\n",
              " 154,\n",
              " 133,\n",
              " 145,\n",
              " 115,\n",
              " 130,\n",
              " 121,\n",
              " 133,\n",
              " 142,\n",
              " 121,\n",
              " 136,\n",
              " 142,\n",
              " 136,\n",
              " 145,\n",
              " 127,\n",
              " 151,\n",
              " 136,\n",
              " 145,\n",
              " 166,\n",
              " 139,\n",
              " 151,\n",
              " 127,\n",
              " 136,\n",
              " 142,\n",
              " 118,\n",
              " 145,\n",
              " 127,\n",
              " 127,\n",
              " 118,\n",
              " 121,\n",
              " 121,\n",
              " 121,\n",
              " 106,\n",
              " 88,\n",
              " 136,\n",
              " 151,\n",
              " 133,\n",
              " 88,\n",
              " 142,\n",
              " 103,\n",
              " 124,\n",
              " 148,\n",
              " 151,\n",
              " 139,\n",
              " 157,\n",
              " 148,\n",
              " 154,\n",
              " 115,\n",
              " 115,\n",
              " 136,\n",
              " 133,\n",
              " 130,\n",
              " 136,\n",
              " 112,\n",
              " 115,\n",
              " 136,\n",
              " 109,\n",
              " 145,\n",
              " 133,\n",
              " 136,\n",
              " 112,\n",
              " 124,\n",
              " 115,\n",
              " 100,\n",
              " 118,\n",
              " 148,\n",
              " 118,\n",
              " 94,\n",
              " 145,\n",
              " 115,\n",
              " 136,\n",
              " 103,\n",
              " 172,\n",
              " 154,\n",
              " 151,\n",
              " 172,\n",
              " 124,\n",
              " 133,\n",
              " 181,\n",
              " 142,\n",
              " 136,\n",
              " 148,\n",
              " 136,\n",
              " 115,\n",
              " 103,\n",
              " 118,\n",
              " 121,\n",
              " 136,\n",
              " 130,\n",
              " 154,\n",
              " 115,\n",
              " 127,\n",
              " 130,\n",
              " 133,\n",
              " 130,\n",
              " 133,\n",
              " 136,\n",
              " 172,\n",
              " 157,\n",
              " 145,\n",
              " 133,\n",
              " 109,\n",
              " 154,\n",
              " 130,\n",
              " 142,\n",
              " 121,\n",
              " 118,\n",
              " 130,\n",
              " 127,\n",
              " 106,\n",
              " 133,\n",
              " 112,\n",
              " 118,\n",
              " 76,\n",
              " 118,\n",
              " 115,\n",
              " 163,\n",
              " 145,\n",
              " 154,\n",
              " 121,\n",
              " 127,\n",
              " 130,\n",
              " 148,\n",
              " 118,\n",
              " 115,\n",
              " 127,\n",
              " 121,\n",
              " 109,\n",
              " 118,\n",
              " 124,\n",
              " 145,\n",
              " 166,\n",
              " 142,\n",
              " 136,\n",
              " 130,\n",
              " 145,\n",
              " 142,\n",
              " 148,\n",
              " 106,\n",
              " 124,\n",
              " 106,\n",
              " 115,\n",
              " 115,\n",
              " 127,\n",
              " 124,\n",
              " 163,\n",
              " 139,\n",
              " 124,\n",
              " 106,\n",
              " 130,\n",
              " 106,\n",
              " 103,\n",
              " 121,\n",
              " 130,\n",
              " 127,\n",
              " 127,\n",
              " 121,\n",
              " 121,\n",
              " 127,\n",
              " 124,\n",
              " 136,\n",
              " 118,\n",
              " 127,\n",
              " 115,\n",
              " 124,\n",
              " 112,\n",
              " 115,\n",
              " 124,\n",
              " 121,\n",
              " 121,\n",
              " 133,\n",
              " 133,\n",
              " 103,\n",
              " 118,\n",
              " 124,\n",
              " 154,\n",
              " 109,\n",
              " 133,\n",
              " 145,\n",
              " 124,\n",
              " 115,\n",
              " 127,\n",
              " 115,\n",
              " 115,\n",
              " 103,\n",
              " 136,\n",
              " 118,\n",
              " 109,\n",
              " 124,\n",
              " 118,\n",
              " 127,\n",
              " 124,\n",
              " 124,\n",
              " 112,\n",
              " 115,\n",
              " 124,\n",
              " 109,\n",
              " 130,\n",
              " 112,\n",
              " 127,\n",
              " 121,\n",
              " 112,\n",
              " 142,\n",
              " 130,\n",
              " 127,\n",
              " 127,\n",
              " 130,\n",
              " 148,\n",
              " 100,\n",
              " 127,\n",
              " 118,\n",
              " 112,\n",
              " 112,\n",
              " 121,\n",
              " 118,\n",
              " 121,\n",
              " 121,\n",
              " 112,\n",
              " 121,\n",
              " 121,\n",
              " 100,\n",
              " 130,\n",
              " 127,\n",
              " 130,\n",
              " 127,\n",
              " 124,\n",
              " 127,\n",
              " 118,\n",
              " 106,\n",
              " 127,\n",
              " 103,\n",
              " 106,\n",
              " 109,\n",
              " 118,\n",
              " 151,\n",
              " 121,\n",
              " 100,\n",
              " 139,\n",
              " 118,\n",
              " 133,\n",
              " 127,\n",
              " 145,\n",
              " 127,\n",
              " 127,\n",
              " 106,\n",
              " 109,\n",
              " 97,\n",
              " 175,\n",
              " 118,\n",
              " 127,\n",
              " 145,\n",
              " 121,\n",
              " 136,\n",
              " 124,\n",
              " 175,\n",
              " 172,\n",
              " 172,\n",
              " 130,\n",
              " 130,\n",
              " 130,\n",
              " 127,\n",
              " 142,\n",
              " 121,\n",
              " 112,\n",
              " 145,\n",
              " 115,\n",
              " 133,\n",
              " 121,\n",
              " 109,\n",
              " 106,\n",
              " 136,\n",
              " 103,\n",
              " 130,\n",
              " 124,\n",
              " 124,\n",
              " 124,\n",
              " 130,\n",
              " 139,\n",
              " 145,\n",
              " 97,\n",
              " 133,\n",
              " 103,\n",
              " 115,\n",
              " 130,\n",
              " 106,\n",
              " 133,\n",
              " 124,\n",
              " 118,\n",
              " 118,\n",
              " 109,\n",
              " 124,\n",
              " 118,\n",
              " 160,\n",
              " 91,\n",
              " 118,\n",
              " 130,\n",
              " 112,\n",
              " 124,\n",
              " 190,\n",
              " 121,\n",
              " 115,\n",
              " 136,\n",
              " 175,\n",
              " 127,\n",
              " 130,\n",
              " 118,\n",
              " 109,\n",
              " 94,\n",
              " 157,\n",
              " 100,\n",
              " 106,\n",
              " 148,\n",
              " 130,\n",
              " 133,\n",
              " 109,\n",
              " 91,\n",
              " 97,\n",
              " 85,\n",
              " 97,\n",
              " 97,\n",
              " 118,\n",
              " 115,\n",
              " 130,\n",
              " 124,\n",
              " 109,\n",
              " 97,\n",
              " 109,\n",
              " 136,\n",
              " 166,\n",
              " 139,\n",
              " 130,\n",
              " 163,\n",
              " 136,\n",
              " 136,\n",
              " 94,\n",
              " 160,\n",
              " 118,\n",
              " 112,\n",
              " 124,\n",
              " 94,\n",
              " 100,\n",
              " 91,\n",
              " 88,\n",
              " 112,\n",
              " 130,\n",
              " 133,\n",
              " 112,\n",
              " 109,\n",
              " 112,\n",
              " 118,\n",
              " 154,\n",
              " 136,\n",
              " 142,\n",
              " 130,\n",
              " 148,\n",
              " 166,\n",
              " 121,\n",
              " 115,\n",
              " 115,\n",
              " 136,\n",
              " 130,\n",
              " 127,\n",
              " 124,\n",
              " 145,\n",
              " 139,\n",
              " 136,\n",
              " 136,\n",
              " 112,\n",
              " 142,\n",
              " 130,\n",
              " 112,\n",
              " 118,\n",
              " 133,\n",
              " 121,\n",
              " 118,\n",
              " 154,\n",
              " 133,\n",
              " 124,\n",
              " 124,\n",
              " 148,\n",
              " 97,\n",
              " 109,\n",
              " 106,\n",
              " 112,\n",
              " 127,\n",
              " 88,\n",
              " 103,\n",
              " 94,\n",
              " 124,\n",
              " 85,\n",
              " 142,\n",
              " 136,\n",
              " 142,\n",
              " 127,\n",
              " 115,\n",
              " 130,\n",
              " 124,\n",
              " 142,\n",
              " 124,\n",
              " 124,\n",
              " 124,\n",
              " 148,\n",
              " 136,\n",
              " 130,\n",
              " 148,\n",
              " 115,\n",
              " 124,\n",
              " 136,\n",
              " 118,\n",
              " 142,\n",
              " 127,\n",
              " 154,\n",
              " 121,\n",
              " 178,\n",
              " 127,\n",
              " 130,\n",
              " 136,\n",
              " 145,\n",
              " 133,\n",
              " 106,\n",
              " 169,\n",
              " 133,\n",
              " 154,\n",
              " 118,\n",
              " 106,\n",
              " 133,\n",
              " 130,\n",
              " 142,\n",
              " 130,\n",
              " 148,\n",
              " 133,\n",
              " 145,\n",
              " 121,\n",
              " 121,\n",
              " 133,\n",
              " 154,\n",
              " 163,\n",
              " 130,\n",
              " 151,\n",
              " 139,\n",
              " 124,\n",
              " 118,\n",
              " 136,\n",
              " 115,\n",
              " 145,\n",
              " 127,\n",
              " 124,\n",
              " 139,\n",
              " 160,\n",
              " 148,\n",
              " 121,\n",
              " 154,\n",
              " 127,\n",
              " 124,\n",
              " 145,\n",
              " 124,\n",
              " 127,\n",
              " 136,\n",
              " 124,\n",
              " 115,\n",
              " 118,\n",
              " 133,\n",
              " 118,\n",
              " 106,\n",
              " 127,\n",
              " 121,\n",
              " 130,\n",
              " 103,\n",
              " 130,\n",
              " 172,\n",
              " 136,\n",
              " 139,\n",
              " 130,\n",
              " 148,\n",
              " 145,\n",
              " 115,\n",
              " 130,\n",
              " 118,\n",
              " 148,\n",
              " 127,\n",
              " 142,\n",
              " 121,\n",
              " 136,\n",
              " 130,\n",
              " 118,\n",
              " 133,\n",
              " 127,\n",
              " 136,\n",
              " 145,\n",
              " 136,\n",
              " 136,\n",
              " 118,\n",
              " 136,\n",
              " 124,\n",
              " 127,\n",
              " 121,\n",
              " 151,\n",
              " 142,\n",
              " 133,\n",
              " 133,\n",
              " 139,\n",
              " 136,\n",
              " 148,\n",
              " 142,\n",
              " 142,\n",
              " 109,\n",
              " 124,\n",
              " 121,\n",
              " 121,\n",
              " 130,\n",
              " 142,\n",
              " 139,\n",
              " 148,\n",
              " 136,\n",
              " 139,\n",
              " 118,\n",
              " 145,\n",
              " 121,\n",
              " 130,\n",
              " 124,\n",
              " 121,\n",
              " 109,\n",
              " 130,\n",
              " 136,\n",
              " 148,\n",
              " 127,\n",
              " 130,\n",
              " 142,\n",
              " 178,\n",
              " 121,\n",
              " 127,\n",
              " 136,\n",
              " 151,\n",
              " 121,\n",
              " 115,\n",
              " 115,\n",
              " 148,\n",
              " 124,\n",
              " 112,\n",
              " 118,\n",
              " 130,\n",
              " 124,\n",
              " 136,\n",
              " 160,\n",
              " 133,\n",
              " 145,\n",
              " 133,\n",
              " 133,\n",
              " 133,\n",
              " 136,\n",
              " 136,\n",
              " 139,\n",
              " 136,\n",
              " 160,\n",
              " 124,\n",
              " 103,\n",
              " 124,\n",
              " 130,\n",
              " 112,\n",
              " 154,\n",
              " 139,\n",
              " 139,\n",
              " 124,\n",
              " 142,\n",
              " 121,\n",
              " 145,\n",
              " 124,\n",
              " 145,\n",
              " 142,\n",
              " 133,\n",
              " 118,\n",
              " 151,\n",
              " 142,\n",
              " 133,\n",
              " 154,\n",
              " 124,\n",
              " 163,\n",
              " 139,\n",
              " 178,\n",
              " 115,\n",
              " 136,\n",
              " 142,\n",
              " 142,\n",
              " 145,\n",
              " 154,\n",
              " 115,\n",
              " 118,\n",
              " 124,\n",
              " 121,\n",
              " 136,\n",
              " 127,\n",
              " 124,\n",
              " 127,\n",
              " 106,\n",
              " 121,\n",
              " 127,\n",
              " 136,\n",
              " 109,\n",
              " 112,\n",
              " 124,\n",
              " 103,\n",
              " 139,\n",
              " 115,\n",
              " 136,\n",
              " 106,\n",
              " 127,\n",
              " 121,\n",
              " 130,\n",
              " 136,\n",
              " 136,\n",
              " 124,\n",
              " 115,\n",
              " 124,\n",
              " 121,\n",
              " 136,\n",
              " 121,\n",
              " 142,\n",
              " 124,\n",
              " 133,\n",
              " 124,\n",
              " 130,\n",
              " 127,\n",
              " 109,\n",
              " 157,\n",
              " 133,\n",
              " 124,\n",
              " 130,\n",
              " 145,\n",
              " 127,\n",
              " 118,\n",
              " 130,\n",
              " 157,\n",
              " 142,\n",
              " 139,\n",
              " 124,\n",
              " 139,\n",
              " 139,\n",
              " 136,\n",
              " 160,\n",
              " 97,\n",
              " 139,\n",
              " 133,\n",
              " 136,\n",
              " 136,\n",
              " 139,\n",
              " 142,\n",
              " 127,\n",
              " 112,\n",
              " 118,\n",
              " 118,\n",
              " 115,\n",
              " 106,\n",
              " 97,\n",
              " 130,\n",
              " 115,\n",
              " 136,\n",
              " 127,\n",
              " 103,\n",
              " 106,\n",
              " 118,\n",
              " 136,\n",
              " 133,\n",
              " 115,\n",
              " 133,\n",
              " 124,\n",
              " 133,\n",
              " 133,\n",
              " 118,\n",
              " 157,\n",
              " 112,\n",
              " 142,\n",
              " 151,\n",
              " 154,\n",
              " 169,\n",
              " 136,\n",
              " 130,\n",
              " 142,\n",
              " 121,\n",
              " 121,\n",
              " 148,\n",
              " 136,\n",
              " 142,\n",
              " 127,\n",
              " 142,\n",
              " 127,\n",
              " 118,\n",
              " 148,\n",
              " 154,\n",
              " 154,\n",
              " 166,\n",
              " 118,\n",
              " 142,\n",
              " 154,\n",
              " 139,\n",
              " 124,\n",
              " 127,\n",
              " 145,\n",
              " 115,\n",
              " 109,\n",
              " 121,\n",
              " 106,\n",
              " 130,\n",
              " 106,\n",
              " 148,\n",
              " 139,\n",
              " 127,\n",
              " 112,\n",
              " 136,\n",
              " 142,\n",
              " 112,\n",
              " 133,\n",
              " 130,\n",
              " 112,\n",
              " 118,\n",
              " 121,\n",
              " 112,\n",
              " 136,\n",
              " 121,\n",
              " 127,\n",
              " 124,\n",
              " 124,\n",
              " 124,\n",
              " 124,\n",
              " 118,\n",
              " 130,\n",
              " 112,\n",
              " 115,\n",
              " 118,\n",
              " 154,\n",
              " 109,\n",
              " 112,\n",
              " 136,\n",
              " 121,\n",
              " 121,\n",
              " 139,\n",
              " 115,\n",
              " 133,\n",
              " 160,\n",
              " 127,\n",
              " 133,\n",
              " 142,\n",
              " 109,\n",
              " 139,\n",
              " 133,\n",
              " 121,\n",
              " 100,\n",
              " 130,\n",
              " 145,\n",
              " 130,\n",
              " 103,\n",
              " 118,\n",
              " 115,\n",
              " 94,\n",
              " 124,\n",
              " 133,\n",
              " 136,\n",
              " 121,\n",
              " 85,\n",
              " 121,\n",
              " 103,\n",
              " 139,\n",
              " 124,\n",
              " 61,\n",
              " 106,\n",
              " 121,\n",
              " 124,\n",
              " 127,\n",
              " 118,\n",
              " 130,\n",
              " 154,\n",
              " 142,\n",
              " 130,\n",
              " 124,\n",
              " 157,\n",
              " 124,\n",
              " 127,\n",
              " 133,\n",
              " 133,\n",
              " 130,\n",
              " 199,\n",
              " 127,\n",
              " 121,\n",
              " 127,\n",
              " 139,\n",
              " 121,\n",
              " 118,\n",
              " 124,\n",
              " 112,\n",
              " 160,\n",
              " 127,\n",
              " 139,\n",
              " 124,\n",
              " 118,\n",
              " 115,\n",
              " 127,\n",
              " 118,\n",
              " 115,\n",
              " 130,\n",
              " 160,\n",
              " 103,\n",
              " 151,\n",
              " 118,\n",
              " 109,\n",
              " 118,\n",
              " 103,\n",
              " 121,\n",
              " 130,\n",
              " 127,\n",
              " 121,\n",
              " 103,\n",
              " 130,\n",
              " ...]"
            ]
          },
          "metadata": {
            "tags": []
          },
          "execution_count": 31
        }
      ]
    },
    {
      "cell_type": "code",
      "metadata": {
        "id": "stAPAOuMAYEy",
        "colab_type": "code",
        "colab": {
          "base_uri": "https://localhost:8080/",
          "height": 473
        },
        "outputId": "dffe34ac-b474-4209-f353-cd218ae0eac2"
      },
      "source": [
        "ax=sns.jointplot(dim1,dim2)\n",
        "\n",
        "ax.set_axis_labels('dim1', 'dim2')"
      ],
      "execution_count": 37,
      "outputs": [
        {
          "output_type": "execute_result",
          "data": {
            "text/plain": [
              "<seaborn.axisgrid.JointGrid at 0x7fcd2a51d2e8>"
            ]
          },
          "metadata": {
            "tags": []
          },
          "execution_count": 37
        },
        {
          "output_type": "display_data",
          "data": {
            "image/png": "[encoded data removed]",
            "text/plain": [
              "<Figure size 432x432 with 3 Axes>"
            ]
          },
          "metadata": {
            "tags": [],
            "needs_background": "light"
          }
        }
      ]
    },
    {
      "cell_type": "markdown",
      "metadata": {
        "id": "0KlOFHHmA4kc",
        "colab_type": "text"
      },
      "source": [
        "CNN cannot train on different sized images. So, we need to reshape themm\n"
      ]
    },
    {
      "cell_type": "code",
      "metadata": {
        "id": "duobwxkEAiCB",
        "colab_type": "code",
        "colab": {
          "base_uri": "https://localhost:8080/",
          "height": 35
        },
        "outputId": "a6556825-fd29-46fb-ac43-66f28e8a2d68"
      },
      "source": [
        "np.mean(dim1)"
      ],
      "execution_count": 38,
      "outputs": [
        {
          "output_type": "execute_result",
          "data": {
            "text/plain": [
              "130.92538461538462"
            ]
          },
          "metadata": {
            "tags": []
          },
          "execution_count": 38
        }
      ]
    },
    {
      "cell_type": "code",
      "metadata": {
        "id": "OVrxPyUhBcOy",
        "colab_type": "code",
        "colab": {
          "base_uri": "https://localhost:8080/",
          "height": 35
        },
        "outputId": "ffe6e3ac-7130-4ed8-a86a-0705ddbb3c3a"
      },
      "source": [
        "np.mean(dim2)"
      ],
      "execution_count": 39,
      "outputs": [
        {
          "output_type": "execute_result",
          "data": {
            "text/plain": [
              "130.75"
            ]
          },
          "metadata": {
            "tags": []
          },
          "execution_count": 39
        }
      ]
    },
    {
      "cell_type": "code",
      "metadata": {
        "id": "1v5-lYVwBIaf",
        "colab_type": "code",
        "colab": {}
      },
      "source": [
        "# all the images are resized to image_shape\n",
        "image_shape = (130,130,3)"
      ],
      "execution_count": 40,
      "outputs": []
    },
    {
      "cell_type": "markdown",
      "metadata": {
        "id": "dhvxs7hRBmN9",
        "colab_type": "text"
      },
      "source": [
        "##Preparing train and test Image Generator"
      ]
    },
    {
      "cell_type": "code",
      "metadata": {
        "id": "rXcaNKbbB-w6",
        "colab_type": "code",
        "colab": {}
      },
      "source": [
        "image_gen = ImageDataGenerator(rotation_range=20,\n",
        "                              width_shift_range=0.1,\n",
        "                              height_shift_range=0.1,\n",
        "                              rescale=1/255,\n",
        "                              shear_range=0.1,\n",
        "                              zoom_range=0.1,\n",
        "                              horizontal_flip = True,\n",
        "                              fill_mode ='nearest' \n",
        "                              )"
      ],
      "execution_count": 41,
      "outputs": []
    },
    {
      "cell_type": "code",
      "metadata": {
        "id": "juWxdyQBCCMX",
        "colab_type": "code",
        "colab": {
          "base_uri": "https://localhost:8080/",
          "height": 287
        },
        "outputId": "6bfde08f-77a0-40f8-f738-b6ad97c42afd"
      },
      "source": [
        "parasitized_cell_img = imread(parasitized_cell)\n",
        "plt.imshow(parasitized_cell_img)"
      ],
      "execution_count": 42,
      "outputs": [
        {
          "output_type": "execute_result",
          "data": {
            "text/plain": [
              "<matplotlib.image.AxesImage at 0x7fcd27024780>"
            ]
          },
          "metadata": {
            "tags": []
          },
          "execution_count": 42
        },
        {
          "output_type": "display_data",
          "data": {
            "image/png": "[encoded data removed]",
            "text/plain": [
              "<Figure size 432x288 with 1 Axes>"
            ]
          },
          "metadata": {
            "tags": [],
            "needs_background": "light"
          }
        }
      ]
    },
    {
      "cell_type": "code",
      "metadata": {
        "id": "AteRsPshCLqU",
        "colab_type": "code",
        "colab": {
          "base_uri": "https://localhost:8080/",
          "height": 287
        },
        "outputId": "0229bbdb-4eec-4a55-9ba2-5195bae5d72b"
      },
      "source": [
        "plt.imshow(image_gen.random_transform(parasitized_cell_img))"
      ],
      "execution_count": 43,
      "outputs": [
        {
          "output_type": "execute_result",
          "data": {
            "text/plain": [
              "<matplotlib.image.AxesImage at 0x7fcd26f8a2b0>"
            ]
          },
          "metadata": {
            "tags": []
          },
          "execution_count": 43
        },
        {
          "output_type": "display_data",
          "data": {
            "image/png": "[encoded data removed]",
            "text/plain": [
              "<Figure size 432x288 with 1 Axes>"
            ]
          },
          "metadata": {
            "tags": [],
            "needs_background": "light"
          }
        }
      ]
    },
    {
      "cell_type": "code",
      "metadata": {
        "id": "93fOP54xCSOW",
        "colab_type": "code",
        "colab": {
          "base_uri": "https://localhost:8080/",
          "height": 52
        },
        "outputId": "5e6aa0ad-ac8a-4a49-91e4-c4983732525a"
      },
      "source": [
        "#Generating more images\n",
        "\n",
        "image_gen.flow_from_directory(train_path)"
      ],
      "execution_count": 44,
      "outputs": [
        {
          "output_type": "stream",
          "text": [
            "Found 24958 images belonging to 2 classes.\n"
          ],
          "name": "stdout"
        },
        {
          "output_type": "execute_result",
          "data": {
            "text/plain": [
              "<tensorflow.python.keras.preprocessing.image.DirectoryIterator at 0x7fcd27075630>"
            ]
          },
          "metadata": {
            "tags": []
          },
          "execution_count": 44
        }
      ]
    },
    {
      "cell_type": "code",
      "metadata": {
        "id": "qNVHleRLDOpt",
        "colab_type": "code",
        "colab": {}
      },
      "source": [
        "batch_size = 16"
      ],
      "execution_count": 45,
      "outputs": []
    },
    {
      "cell_type": "code",
      "metadata": {
        "id": "y9Dmo6hsDFjv",
        "colab_type": "code",
        "colab": {
          "base_uri": "https://localhost:8080/",
          "height": 35
        },
        "outputId": "214b8a8d-bc72-480b-d04b-9ceeb5fa6321"
      },
      "source": [
        "train_image_gen = image_gen.flow_from_directory(train_path,\n",
        "                                               target_size=image_shape[:2],\n",
        "                                                color_mode = 'rgb',\n",
        "                                                batch_size=batch_size,\n",
        "                                                class_mode='binary'\n",
        "                                               )"
      ],
      "execution_count": 46,
      "outputs": [
        {
          "output_type": "stream",
          "text": [
            "Found 24958 images belonging to 2 classes.\n"
          ],
          "name": "stdout"
        }
      ]
    },
    {
      "cell_type": "code",
      "metadata": {
        "id": "FXocLjqYDMAl",
        "colab_type": "code",
        "colab": {
          "base_uri": "https://localhost:8080/",
          "height": 35
        },
        "outputId": "a1007ca6-bd7f-4c47-83a7-5ebdeea668a8"
      },
      "source": [
        "test_image_gen = image_gen.flow_from_directory(test_path,\n",
        "                                               target_size=image_shape[:2],\n",
        "                                                color_mode = 'rgb',\n",
        "                                                batch_size=batch_size,\n",
        "                                                class_mode='binary',\n",
        "                                               shuffle= False\n",
        "                                               )"
      ],
      "execution_count": 47,
      "outputs": [
        {
          "output_type": "stream",
          "text": [
            "Found 2600 images belonging to 2 classes.\n"
          ],
          "name": "stdout"
        }
      ]
    },
    {
      "cell_type": "markdown",
      "metadata": {
        "id": "1c3UW_2tCsAa",
        "colab_type": "text"
      },
      "source": [
        "##Creating the Model"
      ]
    },
    {
      "cell_type": "code",
      "metadata": {
        "id": "MmUQ3AvPC0_M",
        "colab_type": "code",
        "colab": {}
      },
      "source": [
        "model = Sequential()\n",
        "\n",
        "model.add(Conv2D(filters=16, \n",
        "                 kernel_size=(3,3), \n",
        "                 input_shape=image_shape,\n",
        "                 activation='relu'\n",
        "                ))\n",
        "model.add(MaxPool2D(pool_size=(2,2)))\n",
        "model.add(Dropout(0.2))\n",
        "\n",
        "\n",
        "model.add(Conv2D(filters=32, \n",
        "                 kernel_size=(3,3), \n",
        "                 input_shape=image_shape,\n",
        "                 activation='relu'\n",
        "                ))\n",
        "model.add(MaxPool2D(pool_size=(2,2)))\n",
        "model.add(Dropout(0.3))\n",
        "\n",
        "\n",
        "model.add(Conv2D(filters=64, \n",
        "                 kernel_size=(3,3), \n",
        "                 input_shape=image_shape,\n",
        "                 activation='relu'\n",
        "                ))\n",
        "model.add(MaxPool2D(pool_size=(2,2)))\n",
        "model.add(Dropout(0.3))\n",
        "\n",
        "model.add(Flatten())\n",
        "\n",
        "model.add(Dense(64, activation='relu'))\n",
        "model.add(Dropout(0.5))\n",
        "\n",
        "model.add(Dense(1, activation='sigmoid'))\n",
        "\n",
        "model.compile(loss='binary_crossentropy', optimizer='adam', metrics=['accuracy'])"
      ],
      "execution_count": 48,
      "outputs": []
    },
    {
      "cell_type": "code",
      "metadata": {
        "id": "0IGwRjDoC6CX",
        "colab_type": "code",
        "colab": {
          "base_uri": "https://localhost:8080/",
          "height": 621
        },
        "outputId": "e46f09f7-034a-4bf7-edd8-a4ed9cd9ec20"
      },
      "source": [
        "model.summary()"
      ],
      "execution_count": 49,
      "outputs": [
        {
          "output_type": "stream",
          "text": [
            "Model: \"sequential\"\n",
            "_________________________________________________________________\n",
            "Layer (type)                 Output Shape              Param #   \n",
            "=================================================================\n",
            "conv2d (Conv2D)              (None, 128, 128, 16)      448       \n",
            "_________________________________________________________________\n",
            "max_pooling2d (MaxPooling2D) (None, 64, 64, 16)        0         \n",
            "_________________________________________________________________\n",
            "dropout (Dropout)            (None, 64, 64, 16)        0         \n",
            "_________________________________________________________________\n",
            "conv2d_1 (Conv2D)            (None, 62, 62, 32)        4640      \n",
            "_________________________________________________________________\n",
            "max_pooling2d_1 (MaxPooling2 (None, 31, 31, 32)        0         \n",
            "_________________________________________________________________\n",
            "dropout_1 (Dropout)          (None, 31, 31, 32)        0         \n",
            "_________________________________________________________________\n",
            "conv2d_2 (Conv2D)            (None, 29, 29, 64)        18496     \n",
            "_________________________________________________________________\n",
            "max_pooling2d_2 (MaxPooling2 (None, 14, 14, 64)        0         \n",
            "_________________________________________________________________\n",
            "dropout_2 (Dropout)          (None, 14, 14, 64)        0         \n",
            "_________________________________________________________________\n",
            "flatten (Flatten)            (None, 12544)             0         \n",
            "_________________________________________________________________\n",
            "dense (Dense)                (None, 64)                802880    \n",
            "_________________________________________________________________\n",
            "dropout_3 (Dropout)          (None, 64)                0         \n",
            "_________________________________________________________________\n",
            "dense_1 (Dense)              (None, 1)                 65        \n",
            "=================================================================\n",
            "Total params: 826,529\n",
            "Trainable params: 826,529\n",
            "Non-trainable params: 0\n",
            "_________________________________________________________________\n"
          ],
          "name": "stdout"
        }
      ]
    },
    {
      "cell_type": "code",
      "metadata": {
        "id": "tZQViIu4DDO8",
        "colab_type": "code",
        "colab": {}
      },
      "source": [
        "early_stop = EarlyStopping(monitor='val_loss', patience=2)"
      ],
      "execution_count": 50,
      "outputs": []
    },
    {
      "cell_type": "code",
      "metadata": {
        "id": "iz2epnU5DV0l",
        "colab_type": "code",
        "colab": {
          "base_uri": "https://localhost:8080/",
          "height": 232
        },
        "outputId": "9549cfbe-245e-4118-92d0-c76547a2823b"
      },
      "source": [
        "results = model.fit_generator(train_image_gen, epochs=20,\n",
        "                              validation_data = test_image_gen,\n",
        "                              callbacks = [early_stop])"
      ],
      "execution_count": 51,
      "outputs": [
        {
          "output_type": "stream",
          "text": [
            "WARNING:tensorflow:From <ipython-input-51-90584219dffc>:3: Model.fit_generator (from tensorflow.python.keras.engine.training) is deprecated and will be removed in a future version.\n",
            "Instructions for updating:\n",
            "Please use Model.fit, which supports generators.\n",
            "Epoch 1/20\n",
            "1560/1560 [==============================] - 546s 350ms/step - loss: 0.4883 - accuracy: 0.7752 - val_loss: 0.2454 - val_accuracy: 0.9138\n",
            "Epoch 2/20\n",
            "1560/1560 [==============================] - 525s 336ms/step - loss: 0.2046 - accuracy: 0.9355 - val_loss: 0.1810 - val_accuracy: 0.9446\n",
            "Epoch 3/20\n",
            "1560/1560 [==============================] - 529s 339ms/step - loss: 0.1904 - accuracy: 0.9409 - val_loss: 0.1957 - val_accuracy: 0.9346\n",
            "Epoch 4/20\n",
            "1560/1560 [==============================] - 533s 341ms/step - loss: 0.1806 - accuracy: 0.9447 - val_loss: 0.1813 - val_accuracy: 0.9358\n"
          ],
          "name": "stdout"
        }
      ]
    },
    {
      "cell_type": "code",
      "metadata": {
        "id": "pXZmFis6HSvl",
        "colab_type": "code",
        "colab": {
          "base_uri": "https://localhost:8080/",
          "height": 621
        },
        "outputId": "050aee44-3637-4b38-a34b-7800b43944f3"
      },
      "source": [
        "model.summary()"
      ],
      "execution_count": 52,
      "outputs": [
        {
          "output_type": "stream",
          "text": [
            "Model: \"sequential\"\n",
            "_________________________________________________________________\n",
            "Layer (type)                 Output Shape              Param #   \n",
            "=================================================================\n",
            "conv2d (Conv2D)              (None, 128, 128, 16)      448       \n",
            "_________________________________________________________________\n",
            "max_pooling2d (MaxPooling2D) (None, 64, 64, 16)        0         \n",
            "_________________________________________________________________\n",
            "dropout (Dropout)            (None, 64, 64, 16)        0         \n",
            "_________________________________________________________________\n",
            "conv2d_1 (Conv2D)            (None, 62, 62, 32)        4640      \n",
            "_________________________________________________________________\n",
            "max_pooling2d_1 (MaxPooling2 (None, 31, 31, 32)        0         \n",
            "_________________________________________________________________\n",
            "dropout_1 (Dropout)          (None, 31, 31, 32)        0         \n",
            "_________________________________________________________________\n",
            "conv2d_2 (Conv2D)            (None, 29, 29, 64)        18496     \n",
            "_________________________________________________________________\n",
            "max_pooling2d_2 (MaxPooling2 (None, 14, 14, 64)        0         \n",
            "_________________________________________________________________\n",
            "dropout_2 (Dropout)          (None, 14, 14, 64)        0         \n",
            "_________________________________________________________________\n",
            "flatten (Flatten)            (None, 12544)             0         \n",
            "_________________________________________________________________\n",
            "dense (Dense)                (None, 64)                802880    \n",
            "_________________________________________________________________\n",
            "dropout_3 (Dropout)          (None, 64)                0         \n",
            "_________________________________________________________________\n",
            "dense_1 (Dense)              (None, 1)                 65        \n",
            "=================================================================\n",
            "Total params: 826,529\n",
            "Trainable params: 826,529\n",
            "Non-trainable params: 0\n",
            "_________________________________________________________________\n"
          ],
          "name": "stdout"
        }
      ]
    },
    {
      "cell_type": "code",
      "metadata": {
        "id": "e2Iz0DzJZchX",
        "colab_type": "code",
        "colab": {
          "base_uri": "https://localhost:8080/",
          "height": 161
        },
        "outputId": "a4ad5cdb-a11f-4c80-acec-bccd61827e43"
      },
      "source": [
        "# Saved model\n",
        "model.save(\"my_model\")"
      ],
      "execution_count": 58,
      "outputs": [
        {
          "output_type": "stream",
          "text": [
            "WARNING:tensorflow:From /usr/local/lib/python3.6/dist-packages/tensorflow/python/training/tracking/tracking.py:111: Model.state_updates (from tensorflow.python.keras.engine.training) is deprecated and will be removed in a future version.\n",
            "Instructions for updating:\n",
            "This property should not be used in TensorFlow 2.0, as updates are applied automatically.\n",
            "WARNING:tensorflow:From /usr/local/lib/python3.6/dist-packages/tensorflow/python/training/tracking/tracking.py:111: Layer.updates (from tensorflow.python.keras.engine.base_layer) is deprecated and will be removed in a future version.\n",
            "Instructions for updating:\n",
            "This property should not be used in TensorFlow 2.0, as updates are applied automatically.\n",
            "INFO:tensorflow:Assets written to: my_model/assets\n"
          ],
          "name": "stdout"
        }
      ]
    },
    {
      "cell_type": "code",
      "metadata": {
        "id": "Y8VmfJTCHKC6",
        "colab_type": "code",
        "colab": {}
      },
      "source": [
        "model_1 = keras.models.load_model(\"my_model\")"
      ],
      "execution_count": 63,
      "outputs": []
    },
    {
      "cell_type": "code",
      "metadata": {
        "id": "ciADtFyKHXCY",
        "colab_type": "code",
        "colab": {
          "base_uri": "https://localhost:8080/",
          "height": 90
        },
        "outputId": "85dc8471-95e2-4368-df0d-cbaac49e2e7c"
      },
      "source": [
        "pred= model_1.predict_generator(test_image_gen)"
      ],
      "execution_count": 64,
      "outputs": [
        {
          "output_type": "stream",
          "text": [
            "WARNING:tensorflow:From <ipython-input-64-fa70c99cf729>:1: Model.predict_generator (from tensorflow.python.keras.engine.training) is deprecated and will be removed in a future version.\n",
            "Instructions for updating:\n",
            "Please use Model.predict, which supports generators.\n"
          ],
          "name": "stdout"
        }
      ]
    },
    {
      "cell_type": "code",
      "metadata": {
        "id": "cLCkNrrkHbz4",
        "colab_type": "code",
        "colab": {
          "base_uri": "https://localhost:8080/",
          "height": 141
        },
        "outputId": "15a3a9b8-273d-4679-ff29-bacf4638ed65"
      },
      "source": [
        "pred"
      ],
      "execution_count": 65,
      "outputs": [
        {
          "output_type": "execute_result",
          "data": {
            "text/plain": [
              "array([[2.3969710e-03],\n",
              "       [4.4097496e-06],\n",
              "       [1.9374664e-05],\n",
              "       ...,\n",
              "       [9.8575151e-01],\n",
              "       [9.8646170e-01],\n",
              "       [9.7306603e-01]], dtype=float32)"
            ]
          },
          "metadata": {
            "tags": []
          },
          "execution_count": 65
        }
      ]
    },
    {
      "cell_type": "code",
      "metadata": {
        "id": "LPbxd47HHfd_",
        "colab_type": "code",
        "colab": {}
      },
      "source": [
        "predictions = pred > 0.7"
      ],
      "execution_count": 66,
      "outputs": []
    },
    {
      "cell_type": "code",
      "metadata": {
        "id": "yhTLupQzHnKZ",
        "colab_type": "code",
        "colab": {
          "base_uri": "https://localhost:8080/",
          "height": 35
        },
        "outputId": "bcc8ac09-7753-47b4-ddac-6e9ee20dcae9"
      },
      "source": [
        "len(predictions)"
      ],
      "execution_count": 70,
      "outputs": [
        {
          "output_type": "execute_result",
          "data": {
            "text/plain": [
              "2600"
            ]
          },
          "metadata": {
            "tags": []
          },
          "execution_count": 70
        }
      ]
    },
    {
      "cell_type": "code",
      "metadata": {
        "id": "L7mlcq-BHx-D",
        "colab_type": "code",
        "colab": {
          "base_uri": "https://localhost:8080/",
          "height": 177
        },
        "outputId": "086645a8-40f0-4124-f702-2135f8b7ac85"
      },
      "source": [
        "print(classification_report(test_image_gen.classes, predictions))"
      ],
      "execution_count": 68,
      "outputs": [
        {
          "output_type": "stream",
          "text": [
            "              precision    recall  f1-score   support\n",
            "\n",
            "           0       0.96      0.93      0.94      1300\n",
            "           1       0.93      0.96      0.94      1300\n",
            "\n",
            "    accuracy                           0.94      2600\n",
            "   macro avg       0.94      0.94      0.94      2600\n",
            "weighted avg       0.94      0.94      0.94      2600\n",
            "\n"
          ],
          "name": "stdout"
        }
      ]
    },
    {
      "cell_type": "code",
      "metadata": {
        "id": "MdJyy4f4Ynrh",
        "colab_type": "code",
        "colab": {
          "base_uri": "https://localhost:8080/",
          "height": 610
        },
        "outputId": "375fdc1b-756c-4dc8-d9b2-562f27f1cb6c"
      },
      "source": [
        "# get the confusion matrix\n",
        "cm = confusion_matrix(test_image_gen.classes, predictions)\n",
        "plt.figure(figsize = (10, 10))\n",
        "sns.heatmap(cm, annot = True)"
      ],
      "execution_count": 71,
      "outputs": [
        {
          "output_type": "execute_result",
          "data": {
            "text/plain": [
              "<matplotlib.axes._subplots.AxesSubplot at 0x7fcd66f8ab70>"
            ]
          },
          "metadata": {
            "tags": []
          },
          "execution_count": 71
        },
        {
          "output_type": "display_data",
          "data": {
            "image/png": "[encoded data removed]",
            "text/plain": [
              "<Figure size 720x720 with 2 Axes>"
            ]
          },
          "metadata": {
            "tags": [],
            "needs_background": "light"
          }
        }
      ]
    }
  ]
}